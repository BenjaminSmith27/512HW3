{
 "cells": [
  {
   "cell_type": "code",
   "execution_count": null,
   "id": "backed-beginning",
   "metadata": {},
   "outputs": [],
   "source": [
    "import numpy as np\n",
    "import time\n",
    "import pandas as pd\n",
    "import os\n",
    "import snakeviz\n",
    "import numba\n",
    "from numba import jit"
   ]
  },
  {
   "cell_type": "code",
   "execution_count": null,
   "id": "ranging-plaintiff",
   "metadata": {},
   "outputs": [],
   "source": [
    " \n",
    "features = pd.read_csv('data/data copy/TCGA-PANCAN-HiSeq-801x20531/data.csv', index_col=0).to_numpy()"
   ]
  },
  {
   "cell_type": "code",
   "execution_count": null,
   "id": "flexible-resource",
   "metadata": {},
   "outputs": [],
   "source": [
    "@jit\n",
    "def compute_distances(xs, num_clusters,assignments):\n",
    "    N = xs.shape[0]  # num sample points\n",
    "    d = xs.shape[1]  # dimension of space\n",
    "    np.random.seed(0)\n",
    "    cids = np.random.choice(N, (num_clusters,), replace=False)\n",
    "    centroids  = xs[cids, :]\n",
    "    # Compute distances from sample points to centroids\n",
    "    # all  pair-wise _squared_ distances\n",
    "    cdists = np.zeros((N, num_clusters))\n",
    "    for i in range(N):\n",
    "        xi = xs[i, :]\n",
    "        for c in range(num_clusters):\n",
    "            cc  = centroids[c, :]\n",
    "            dist = 0\n",
    "            for j in range(d):\n",
    "                dist += (xi[j] - cc[j]) ** 2\n",
    "            cdists[i, c] = dist\n",
    "    return cdists, assignments\n",
    "@jit\n",
    "def expectation_step(xs, num_clusters,cdists, assignments):\n",
    "    N = xs.shape[0]  # num sample points\n",
    "    d = xs.shape[1]  # dimension of space\n",
    "    np.random.seed(0)\n",
    "    cids = np.random.choice(N, (num_clusters,), replace=False)\n",
    "    centroids  = xs[cids, :]\n",
    "    num_changed_assignments = 0\n",
    "    \n",
    "\n",
    "    for i in range(N):\n",
    "            # pick closest cluster\n",
    "       \n",
    "        cmin = 0\n",
    "        mindist = np.inf\n",
    "        for c in range(num_clusters):\n",
    "            if cdists[i, c] < mindist:\n",
    "                cmin = c\n",
    "                mindist = cdists[i, c]\n",
    "        if assignments[i] != cmin:\n",
    "            num_changed_assignments += 1\n",
    "        assignments[i] = cmin\n",
    "    return num_changed_assignments, assignments\n",
    "\n",
    "@jit\n",
    "def maximization_step(xs, num_clusters, assignments):\n",
    "    N = xs.shape[0]  # num sample points\n",
    "    d = xs.shape[1]  # dimension of space\n",
    "    np.random.seed(0)\n",
    "    cids = np.random.choice(N, (num_clusters,), replace=False)\n",
    "    centroids  = xs[cids, :]\n",
    "    # Maximization step: Update centroid for each cluster\n",
    "\n",
    "    for c in range(num_clusters):\n",
    "        \n",
    "        newcent =np.zeros(1,)\n",
    "        clustersize = 0\n",
    "        for i in range(N):\n",
    "            if assignments[i] == c:\n",
    "                newcent = newcent + xs[i, :]\n",
    "                clustersize += 1\n",
    "        newcent = newcent / clustersize\n",
    "        centroids[c, :]  = newcent\n",
    "    return centroids\n",
    "\n",
    "def kmeans(xs, num_clusters=4):\n",
    "    N = xs.shape[0]  # num sample points\n",
    "    d = xs.shape[1]  # dimension of space\n",
    "    assignments = np.zeros(N, dtype=np.uint8)\n",
    "\n",
    "    \n",
    "    while True:\n",
    "        start=time.perf_counter()\n",
    "        cdists, assignments= compute_distances(features, 4, assignments)\n",
    "        num_changed_assignments, assignments = expectation_step(features, 4, cdists, assignments)\n",
    "        centroids = maximization_step(features,4, assignments)\n",
    "        if num_changed_assignments == 0:\n",
    "            break\n",
    "        end = time.perf_counter()\n",
    "        \n",
    "    return centroids, assignments\n"
   ]
  },
  {
   "cell_type": "code",
   "execution_count": null,
   "id": "incorrect-cherry",
   "metadata": {},
   "outputs": [],
   "source": [
    "%prun kmeans(features, 4)\n"
   ]
  },
  {
   "cell_type": "code",
   "execution_count": null,
   "id": "interior-string",
   "metadata": {},
   "outputs": [],
   "source": [
    "\n",
    "    # run k-means\n",
    "centroids, assignments = kmeans(features, 4)  \n",
    "\n"
   ]
  },
  {
   "cell_type": "code",
   "execution_count": null,
   "id": "intermediate-baptist",
   "metadata": {},
   "outputs": [],
   "source": []
  }
 ],
 "metadata": {
  "kernelspec": {
   "display_name": "Python 3",
   "language": "python",
   "name": "python3"
  },
  "language_info": {
   "codemirror_mode": {
    "name": "ipython",
    "version": 3
   },
   "file_extension": ".py",
   "mimetype": "text/x-python",
   "name": "python",
   "nbconvert_exporter": "python",
   "pygments_lexer": "ipython3",
   "version": "3.8.5"
  }
 },
 "nbformat": 4,
 "nbformat_minor": 5
}
