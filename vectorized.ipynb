{
 "cells": [
  {
   "cell_type": "code",
   "execution_count": 1,
   "id": "critical-driving",
   "metadata": {},
   "outputs": [],
   "source": [
    "import numpy as np\n",
    "import time\n",
    "import pandas as pd\n",
    "import os\n",
    "import snakeviz"
   ]
  },
  {
   "cell_type": "code",
   "execution_count": 2,
   "id": "settled-control",
   "metadata": {},
   "outputs": [],
   "source": [
    "\n",
    "features = pd.read_csv('data/data copy/TCGA-PANCAN-HiSeq-801x20531/data.csv', index_col=0).to_numpy()\n"
   ]
  },
  {
   "cell_type": "code",
   "execution_count": 3,
   "id": "animated-ensemble",
   "metadata": {},
   "outputs": [],
   "source": [
    "\n",
    "\n",
    "def compute_distances(xs, num_clusters,assignments):\n",
    "    N = xs.shape[0]  # num sample points\n",
    "    d = xs.shape[1]  # dimension of space\n",
    "    np.random.seed(0)\n",
    "    cids = np.random.choice(N, (num_clusters,), replace=False)\n",
    "    centroids  = xs[cids, :]\n",
    "    # Compute distances from sample points to centroids\n",
    "    # all  pair-wise _squared_ distances\n",
    "    cdists = np.zeros((N, num_clusters))\n",
    "    for i in range(N):\n",
    "        xi = xs[i, :]\n",
    "        for c in range(num_clusters):\n",
    "            cc  = centroids[c, :]\n",
    "            \n",
    "            dist = np.sum((xi-cc)) **2\n",
    "            cdists[i, c] = dist\n",
    "    return cdists, assignments\n",
    "\n",
    "def expectation_step(xs, num_clusters,cdists, assignments):\n",
    "    N = xs.shape[0]  # num sample points\n",
    "    d = xs.shape[1]  # dimension of space\n",
    "    np.random.seed(0)\n",
    "    cids = np.random.choice(N, (num_clusters,), replace=False)\n",
    "    centroids  = xs[cids, :]\n",
    "    num_changed_assignments = 0\n",
    "    \n",
    "\n",
    "    for i in range(N):\n",
    "            # pick closest cluster\n",
    "       \n",
    "        cmin = 0\n",
    "        mindist = np.inf\n",
    "        for c in range(num_clusters):\n",
    "            if cdists[i, c] < mindist:\n",
    "                cmin = c\n",
    "                mindist = cdists[i, c]\n",
    "        if assignments[i] != cmin:\n",
    "            num_changed_assignments += 1\n",
    "        assignments[i] = cmin\n",
    "    return num_changed_assignments, assignments\n",
    "\n",
    "def maximization_step(xs, num_clusters, assignments):\n",
    "    N = xs.shape[0]  # num sample points\n",
    "    d = xs.shape[1]  # dimension of space\n",
    "    np.random.seed(0)\n",
    "    cids = np.random.choice(N, (num_clusters,), replace=False)\n",
    "    centroids  = xs[cids, :]\n",
    "    # Maximization step: Update centroid for each cluster\n",
    "\n",
    "    for c in range(num_clusters):\n",
    "        newcent = 0\n",
    "        clustersize = 0\n",
    "        for i in range(N):\n",
    "            if assignments[i] == c:\n",
    "                newcent = newcent + xs[i, :]\n",
    "                clustersize += 1\n",
    "        newcent = newcent / clustersize\n",
    "        centroids[c, :]  = newcent\n",
    "    return centroids\n",
    "\n",
    "def kmeansV(xs, num_clusters):\n",
    "    N = xs.shape[0]  # num sample points\n",
    "    d = xs.shape[1]  # dimension of space\n",
    "    assignments = np.zeros(N, dtype=np.uint8)\n",
    "\n",
    "    \n",
    "    while True:\n",
    "        start=time.perf_counter()\n",
    "        cdists, assignments= compute_distances(features, 4, assignments)\n",
    "        num_changed_assignments, assignments = expectation_step(features, 4, cdists, assignments)\n",
    "        centroids = maximization_step(features,4, assignments)\n",
    "        if num_changed_assignments == 0:\n",
    "            break\n",
    "        end = time.perf_counter()\n",
    "        \n",
    "    return centroids, assignments\n"
   ]
  },
  {
   "cell_type": "code",
   "execution_count": 4,
   "id": "nearby-university",
   "metadata": {},
   "outputs": [
    {
     "name": "stdout",
     "output_type": "stream",
     "text": [
      " "
     ]
    }
   ],
   "source": [
    "%prun kmeansV(features, 4)\n"
   ]
  },
  {
   "cell_type": "code",
   "execution_count": 5,
   "id": "parental-portugal",
   "metadata": {},
   "outputs": [],
   "source": [
    "    # run k-means\n",
    "centroids, assignments = kmeansV(features, 4)  \n",
    "    \n",
    "\n"
   ]
  },
  {
   "cell_type": "code",
   "execution_count": 6,
   "id": "arabic-layout",
   "metadata": {},
   "outputs": [],
   "source": [
    "%load_ext snakeviz"
   ]
  },
  {
   "cell_type": "code",
   "execution_count": 7,
   "id": "failing-wagon",
   "metadata": {},
   "outputs": [
    {
     "name": "stdout",
     "output_type": "stream",
     "text": [
      " \n",
      "*** Profile stats marshalled to file 'C:\\\\Users\\\\jln766\\\\AppData\\\\Local\\\\Temp\\\\tmpu11tj_6e'. \n",
      "Embedding SnakeViz in this document...\n"
     ]
    },
    {
     "data": {
      "text/html": [
       "\n",
       "<iframe id='snakeviz-1f07ae9f-994e-11eb-8be4-001a7dda7115' frameborder=0 seamless width='100%' height='1000'></iframe>\n",
       "<script>document.getElementById(\"snakeviz-1f07ae9f-994e-11eb-8be4-001a7dda7115\").setAttribute(\"src\", \"http://\" + document.location.hostname + \":8080/snakeviz/C%3A%5CUsers%5Cjln766%5CAppData%5CLocal%5CTemp%5Ctmpu11tj_6e\")</script>\n"
      ],
      "text/plain": [
       "<IPython.core.display.HTML object>"
      ]
     },
     "metadata": {},
     "output_type": "display_data"
    }
   ],
   "source": [
    "%snakeviz kmeansV(features, 4)"
   ]
  },
  {
   "cell_type": "code",
   "execution_count": null,
   "id": "lined-connecticut",
   "metadata": {},
   "outputs": [],
   "source": []
  },
  {
   "cell_type": "code",
   "execution_count": null,
   "id": "controlled-messaging",
   "metadata": {},
   "outputs": [],
   "source": []
  },
  {
   "cell_type": "code",
   "execution_count": null,
   "id": "scheduled-small",
   "metadata": {},
   "outputs": [],
   "source": []
  }
 ],
 "metadata": {
  "kernelspec": {
   "display_name": "Python 3",
   "language": "python",
   "name": "python3"
  },
  "language_info": {
   "codemirror_mode": {
    "name": "ipython",
    "version": 3
   },
   "file_extension": ".py",
   "mimetype": "text/x-python",
   "name": "python",
   "nbconvert_exporter": "python",
   "pygments_lexer": "ipython3",
   "version": "3.8.5"
  }
 },
 "nbformat": 4,
 "nbformat_minor": 5
}
